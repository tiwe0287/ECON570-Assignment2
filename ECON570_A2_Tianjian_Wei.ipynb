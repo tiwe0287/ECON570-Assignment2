{
 "cells": [
  {
   "cell_type": "code",
   "execution_count": 1,
   "metadata": {},
   "outputs": [],
   "source": [
    "import numpy as np\n",
    "import pandas as pd\n",
    "import random\n",
    "from tqdm import tqdm\n",
    "import graphviz as gr\n",
    "from sklearn.preprocessing import MinMaxScaler\n",
    "from matplotlib import pyplot as plt\n",
    "import statsmodels.api as sm\n",
    "import statsmodels.formula.api as smf\n",
    "from scipy.stats import skewnorm \n",
    "random.seed(99)\n",
    "np.random.seed(99)"
   ]
  },
  {
   "cell_type": "code",
   "execution_count": 2,
   "metadata": {},
   "outputs": [],
   "source": [
    "def generate_x(N, corr, nvar):\n",
    "    # generate random normal distribution\n",
    "    mu = np.zeros(nvar)\n",
    "    std = (np.abs(np.random.normal(loc = 1, scale = .5,size = (nvar,1))))**(1/2)\n",
    "    acc = []\n",
    "    for i in range(nvar):\n",
    "        acc.append(np.reshape(np.random.normal(mu[i],std[i],N),(N,-1)))\n",
    "    normvars = np.concatenate(acc,axis=1)\n",
    "    \n",
    "    #generate covariates\n",
    "    acc1  = []\n",
    "    for i in range(nvar):\n",
    "        row = np.ones((1,nvar)) * corr\n",
    "        row[0][i] = 1\n",
    "        acc1.append(row)\n",
    "    cov = np.concatenate(acc1,axis=0) # covariates\n",
    "    C = np.linalg.cholesky(cov) # confounder\n",
    "    \n",
    "    xi = np.transpose(np.dot(C,np.transpose(normvars))) # all X\n",
    "    return xi"
   ]
  },
  {
   "cell_type": "code",
   "execution_count": 3,
   "metadata": {},
   "outputs": [],
   "source": [
    "def performance(tau0, N, result):\n",
    "    ate = np.mean(result[\"tauhat\"]) \n",
    "    b = result[\"tauhat\"] - tau0\n",
    "    bias = np.mean(b)\n",
    "    rmse = np.sqrt(np.mean(b**2)) \n",
    "    t = b/result[\"sehat\"]\n",
    "    size = np.mean(1*(np.abs(t)>1.96)) \n",
    "\n",
    "    print(f'N={N}:') \n",
    "    print(\"treatment effect=\", ate)\n",
    "    print(f'bias={bias}')\n",
    "    print(f'RMSE={rmse}')\n",
    "    print(f'size={size}\\n')"
   ]
  },
  {
   "cell_type": "code",
   "execution_count": 4,
   "metadata": {},
   "outputs": [],
   "source": [
    "def MonteCarlo(case, iteration):\n",
    "    est = {}\n",
    "    tau = 2\n",
    "    for N in [100, 1000]:\n",
    "        tauhats = []\n",
    "        sehats = [] \n",
    "        for i in tqdm(range(iteration), position = 0, leave = True):\n",
    "            \n",
    "            # Do not control for covariates\n",
    "            if case == 11: \n",
    "                y, T, X, Ncov = DGP1(N) # data generating\n",
    "                yt = y[np.where(T==1)[0],:] # y treatment group \n",
    "                yc = y[np.where(T==0)[0],:] # y controlled group\n",
    "                tauhat = np.mean(yt)-np.mean(yc) # ATE\n",
    "                se_tauhat = (np.var(yt,ddof=1)/len(yt)+np.var(yc,ddof=1)/len(yc))**(1/2) # SE\n",
    "            else: \n",
    "                # Control for all covariates\n",
    "                if case == 12: \n",
    "                    y, T, X, Ncov = DGP1(N) # data generating\n",
    "                    Xobs = X[:,:Ncov]\n",
    "                    covars = np.concatenate([T,Xobs],axis = 1)\n",
    "                    mod = sm.OLS(y,covars)\n",
    "                    \n",
    "                # Fail to control for the confounder\n",
    "                if case == 21: \n",
    "                    y, T, T1, C = DGP2(N) # data generating\n",
    "                    confound = np.concatenate([T1],axis = 1) \n",
    "                    mod = sm.OLS(y,confound) \n",
    "                    \n",
    "                # Control for the confounder\n",
    "                if case == 22: \n",
    "                    y, T, T1, C = DGP2(N) # data generating\n",
    "                    confound = np.concatenate([T1,C],axis = 1)\n",
    "                    mod = sm.OLS(y,confound)\n",
    "                \n",
    "                # Control for the mediator variable\n",
    "                if case == 31: \n",
    "                    y, T, M = DGP3(N) # data generating\n",
    "                    mediator = np.concatenate([T,M],axis = 1)\n",
    "                    mod = sm.OLS(y,mediator)\n",
    "                \n",
    "                # Do not control for the mediator variable\n",
    "                if case == 32:\n",
    "                    y, T, M = DGP3(N) # data generating \n",
    "                    mod = sm.OLS(y,T)   \n",
    "            \n",
    "                res = mod.fit() \n",
    "                tauhat = res.params[0] #tau hat\n",
    "                se_tauhat = res.HC1_se[0] #se hat\n",
    "                \n",
    "            tauhats = tauhats + [tauhat]\n",
    "            sehats = sehats + [se_tauhat]    \n",
    "\n",
    "            est[N] = {\n",
    "                'tauhat':np.array(tauhats).reshape([len(tauhats),1]),\n",
    "                'sehat':np.array(sehats).reshape([len(sehats),1])\n",
    "            }\n",
    "            \n",
    "    # Estimation, Bias, RMSE, Size\n",
    "    tau0 = tau*np.ones([iteration,1])\n",
    "    for N, result in est.items():\n",
    "        performance(tau0, N, result) "
   ]
  },
  {
   "cell_type": "markdown",
   "metadata": {},
   "source": [
    "***"
   ]
  },
  {
   "cell_type": "markdown",
   "metadata": {},
   "source": [
    "# 1. Randomly assigned treatment and observed covariates"
   ]
  },
  {
   "cell_type": "markdown",
   "metadata": {},
   "source": [
    "Consider a study on the causal effect of education on earnings. \n",
    "* Treatment: education;   Outcome: income\n",
    "* Age and gender are the observed covariates\n",
    "* Education level affects income, but age, gender, and other covariates also affect income. By controlling the covariates, we only evaluate the effect of the treatment on outcome, which gives a more precise causal effect estimation."
   ]
  },
  {
   "cell_type": "code",
   "execution_count": 5,
   "metadata": {
    "scrolled": false
   },
   "outputs": [
    {
     "data": {
      "image/svg+xml": [
       "<?xml version=\"1.0\" encoding=\"UTF-8\" standalone=\"no\"?>\n",
       "<!DOCTYPE svg PUBLIC \"-//W3C//DTD SVG 1.1//EN\"\n",
       " \"http://www.w3.org/Graphics/SVG/1.1/DTD/svg11.dtd\">\n",
       "<!-- Generated by graphviz version 2.40.1 (20161225.0304)\n",
       " -->\n",
       "<!-- Title: %3 Pages: 1 -->\n",
       "<svg width=\"278pt\" height=\"116pt\"\n",
       " viewBox=\"0.00 0.00 278.00 116.00\" xmlns=\"http://www.w3.org/2000/svg\" xmlns:xlink=\"http://www.w3.org/1999/xlink\">\n",
       "<g id=\"graph0\" class=\"graph\" transform=\"scale(1 1) rotate(0) translate(4 112)\">\n",
       "<title>%3</title>\n",
       "<polygon fill=\"#ffffff\" stroke=\"transparent\" points=\"-4,4 -4,-112 274,-112 274,4 -4,4\"/>\n",
       "<!-- T -->\n",
       "<g id=\"node1\" class=\"node\">\n",
       "<title>T</title>\n",
       "<ellipse fill=\"none\" stroke=\"#000000\" cx=\"27\" cy=\"-90\" rx=\"27\" ry=\"18\"/>\n",
       "<text text-anchor=\"middle\" x=\"27\" y=\"-86.3\" font-family=\"Times,serif\" font-size=\"14.00\" fill=\"#000000\">T</text>\n",
       "</g>\n",
       "<!-- Y -->\n",
       "<g id=\"node2\" class=\"node\">\n",
       "<title>Y</title>\n",
       "<ellipse fill=\"none\" stroke=\"#000000\" cx=\"135\" cy=\"-18\" rx=\"27\" ry=\"18\"/>\n",
       "<text text-anchor=\"middle\" x=\"135\" y=\"-14.3\" font-family=\"Times,serif\" font-size=\"14.00\" fill=\"#000000\">Y</text>\n",
       "</g>\n",
       "<!-- T&#45;&gt;Y -->\n",
       "<g id=\"edge1\" class=\"edge\">\n",
       "<title>T&#45;&gt;Y</title>\n",
       "<path fill=\"none\" stroke=\"#000000\" d=\"M46.3082,-77.1278C63.3555,-65.763 88.4019,-49.0654 107.5344,-36.3104\"/>\n",
       "<polygon fill=\"#000000\" stroke=\"#000000\" points=\"109.4799,-39.2199 115.8589,-30.7607 105.5969,-33.3956 109.4799,-39.2199\"/>\n",
       "</g>\n",
       "<!-- X1 -->\n",
       "<g id=\"node3\" class=\"node\">\n",
       "<title>X1</title>\n",
       "<ellipse fill=\"none\" stroke=\"#000000\" cx=\"99\" cy=\"-90\" rx=\"27\" ry=\"18\"/>\n",
       "<text text-anchor=\"middle\" x=\"99\" y=\"-86.3\" font-family=\"Times,serif\" font-size=\"14.00\" fill=\"#000000\">X1</text>\n",
       "</g>\n",
       "<!-- X1&#45;&gt;Y -->\n",
       "<g id=\"edge2\" class=\"edge\">\n",
       "<title>X1&#45;&gt;Y</title>\n",
       "<path fill=\"none\" stroke=\"#000000\" d=\"M107.7146,-72.5708C111.9597,-64.0807 117.1536,-53.6929 121.8663,-44.2674\"/>\n",
       "<polygon fill=\"#000000\" stroke=\"#000000\" points=\"125.024,-45.7782 126.3657,-35.2687 118.763,-42.6477 125.024,-45.7782\"/>\n",
       "</g>\n",
       "<!-- ... -->\n",
       "<g id=\"node4\" class=\"node\">\n",
       "<title>...</title>\n",
       "<ellipse fill=\"none\" stroke=\"#000000\" cx=\"171\" cy=\"-90\" rx=\"27\" ry=\"18\"/>\n",
       "<text text-anchor=\"middle\" x=\"171\" y=\"-86.3\" font-family=\"Times,serif\" font-size=\"14.00\" fill=\"#000000\">...</text>\n",
       "</g>\n",
       "<!-- ...&#45;&gt;Y -->\n",
       "<g id=\"edge3\" class=\"edge\">\n",
       "<title>...&#45;&gt;Y</title>\n",
       "<path fill=\"none\" stroke=\"#000000\" d=\"M162.2854,-72.5708C158.0403,-64.0807 152.8464,-53.6929 148.1337,-44.2674\"/>\n",
       "<polygon fill=\"#000000\" stroke=\"#000000\" points=\"151.237,-42.6477 143.6343,-35.2687 144.976,-45.7782 151.237,-42.6477\"/>\n",
       "</g>\n",
       "<!-- Xn -->\n",
       "<g id=\"node5\" class=\"node\">\n",
       "<title>Xn</title>\n",
       "<ellipse fill=\"none\" stroke=\"#000000\" cx=\"243\" cy=\"-90\" rx=\"27\" ry=\"18\"/>\n",
       "<text text-anchor=\"middle\" x=\"243\" y=\"-86.3\" font-family=\"Times,serif\" font-size=\"14.00\" fill=\"#000000\">Xn</text>\n",
       "</g>\n",
       "<!-- Xn&#45;&gt;Y -->\n",
       "<g id=\"edge4\" class=\"edge\">\n",
       "<title>Xn&#45;&gt;Y</title>\n",
       "<path fill=\"none\" stroke=\"#000000\" d=\"M223.6918,-77.1278C206.6445,-65.763 181.5981,-49.0654 162.4656,-36.3104\"/>\n",
       "<polygon fill=\"#000000\" stroke=\"#000000\" points=\"164.4031,-33.3956 154.1411,-30.7607 160.5201,-39.2199 164.4031,-33.3956\"/>\n",
       "</g>\n",
       "</g>\n",
       "</svg>\n"
      ],
      "text/plain": [
       "<graphviz.dot.Digraph at 0x7fd2833fe710>"
      ]
     },
     "execution_count": 5,
     "metadata": {},
     "output_type": "execute_result"
    }
   ],
   "source": [
    "g1 = gr.Digraph()\n",
    "g1.edge(\"T\", \"Y\")\n",
    "g1.edge(\"X1\", \"Y\")\n",
    "g1.edge(\"...\", \"Y\")\n",
    "g1.edge(\"Xn\", \"Y\")\n",
    "g1"
   ]
  },
  {
   "cell_type": "code",
   "execution_count": 6,
   "metadata": {},
   "outputs": [
    {
     "data": {
      "image/svg+xml": [
       "<?xml version=\"1.0\" encoding=\"UTF-8\" standalone=\"no\"?>\n",
       "<!DOCTYPE svg PUBLIC \"-//W3C//DTD SVG 1.1//EN\"\n",
       " \"http://www.w3.org/Graphics/SVG/1.1/DTD/svg11.dtd\">\n",
       "<!-- Generated by graphviz version 2.40.1 (20161225.0304)\n",
       " -->\n",
       "<!-- Title: %3 Pages: 1 -->\n",
       "<svg width=\"420pt\" height=\"116pt\"\n",
       " viewBox=\"0.00 0.00 420.34 116.00\" xmlns=\"http://www.w3.org/2000/svg\" xmlns:xlink=\"http://www.w3.org/1999/xlink\">\n",
       "<g id=\"graph0\" class=\"graph\" transform=\"scale(1 1) rotate(0) translate(4 112)\">\n",
       "<title>%3</title>\n",
       "<polygon fill=\"#ffffff\" stroke=\"transparent\" points=\"-4,4 -4,-112 416.3397,-112 416.3397,4 -4,4\"/>\n",
       "<!-- Education -->\n",
       "<g id=\"node1\" class=\"node\">\n",
       "<title>Education</title>\n",
       "<ellipse fill=\"none\" stroke=\"#000000\" cx=\"47.4458\" cy=\"-90\" rx=\"47.3916\" ry=\"18\"/>\n",
       "<text text-anchor=\"middle\" x=\"47.4458\" y=\"-86.3\" font-family=\"Times,serif\" font-size=\"14.00\" fill=\"#000000\">Education</text>\n",
       "</g>\n",
       "<!-- Income -->\n",
       "<g id=\"node2\" class=\"node\">\n",
       "<title>Income</title>\n",
       "<ellipse fill=\"none\" stroke=\"#000000\" cx=\"179.4458\" cy=\"-18\" rx=\"37.8943\" ry=\"18\"/>\n",
       "<text text-anchor=\"middle\" x=\"179.4458\" y=\"-14.3\" font-family=\"Times,serif\" font-size=\"14.00\" fill=\"#000000\">Income</text>\n",
       "</g>\n",
       "<!-- Education&#45;&gt;Income -->\n",
       "<g id=\"edge1\" class=\"edge\">\n",
       "<title>Education&#45;&gt;Income</title>\n",
       "<path fill=\"none\" stroke=\"#000000\" d=\"M74.7963,-75.0816C95.2797,-63.9088 123.4317,-48.5531 145.3778,-36.5826\"/>\n",
       "<polygon fill=\"#000000\" stroke=\"#000000\" points=\"147.2599,-39.5428 154.3628,-31.6816 143.9079,-33.3976 147.2599,-39.5428\"/>\n",
       "</g>\n",
       "<!-- age -->\n",
       "<g id=\"node3\" class=\"node\">\n",
       "<title>age</title>\n",
       "<ellipse fill=\"none\" stroke=\"#000000\" cx=\"139.4458\" cy=\"-90\" rx=\"27\" ry=\"18\"/>\n",
       "<text text-anchor=\"middle\" x=\"139.4458\" y=\"-86.3\" font-family=\"Times,serif\" font-size=\"14.00\" fill=\"#000000\">age</text>\n",
       "</g>\n",
       "<!-- age&#45;&gt;Income -->\n",
       "<g id=\"edge2\" class=\"edge\">\n",
       "<title>age&#45;&gt;Income</title>\n",
       "<path fill=\"none\" stroke=\"#000000\" d=\"M148.9252,-72.937C153.6873,-64.3654 159.5617,-53.7914 164.881,-44.2165\"/>\n",
       "<polygon fill=\"#000000\" stroke=\"#000000\" points=\"167.9596,-45.882 169.7565,-35.4407 161.8405,-42.4825 167.9596,-45.882\"/>\n",
       "</g>\n",
       "<!-- gender -->\n",
       "<g id=\"node4\" class=\"node\">\n",
       "<title>gender</title>\n",
       "<ellipse fill=\"none\" stroke=\"#000000\" cx=\"220.4458\" cy=\"-90\" rx=\"35.9954\" ry=\"18\"/>\n",
       "<text text-anchor=\"middle\" x=\"220.4458\" y=\"-86.3\" font-family=\"Times,serif\" font-size=\"14.00\" fill=\"#000000\">gender</text>\n",
       "</g>\n",
       "<!-- gender&#45;&gt;Income -->\n",
       "<g id=\"edge3\" class=\"edge\">\n",
       "<title>gender&#45;&gt;Income</title>\n",
       "<path fill=\"none\" stroke=\"#000000\" d=\"M210.5208,-72.5708C205.7217,-64.1431 199.8578,-53.8455 194.5221,-44.4755\"/>\n",
       "<polygon fill=\"#000000\" stroke=\"#000000\" points=\"197.4113,-42.4761 189.4215,-35.5182 191.3284,-45.9401 197.4113,-42.4761\"/>\n",
       "</g>\n",
       "<!-- other covariates -->\n",
       "<g id=\"node5\" class=\"node\">\n",
       "<title>other covariates</title>\n",
       "<ellipse fill=\"none\" stroke=\"#000000\" cx=\"343.4458\" cy=\"-90\" rx=\"68.7879\" ry=\"18\"/>\n",
       "<text text-anchor=\"middle\" x=\"343.4458\" y=\"-86.3\" font-family=\"Times,serif\" font-size=\"14.00\" fill=\"#000000\">other covariates</text>\n",
       "</g>\n",
       "<!-- other covariates&#45;&gt;Income -->\n",
       "<g id=\"edge4\" class=\"edge\">\n",
       "<title>other covariates&#45;&gt;Income</title>\n",
       "<path fill=\"none\" stroke=\"#000000\" d=\"M307.8602,-74.3771C280.8936,-62.5381 243.9413,-46.3151 216.5979,-34.3107\"/>\n",
       "<polygon fill=\"#000000\" stroke=\"#000000\" points=\"217.9225,-31.0698 207.359,-30.2546 215.1085,-37.4793 217.9225,-31.0698\"/>\n",
       "</g>\n",
       "</g>\n",
       "</svg>\n"
      ],
      "text/plain": [
       "<graphviz.dot.Digraph at 0x7fd283426410>"
      ]
     },
     "execution_count": 6,
     "metadata": {},
     "output_type": "execute_result"
    }
   ],
   "source": [
    "g11 = gr.Digraph()\n",
    "g11.edge(\"Education\", \"Income\"), g11.edge(\"age\", \"Income\"), g11.edge(\"gender\", \"Income\"),g11.edge(\"other covariates\", \"Income\")\n",
    "g11"
   ]
  },
  {
   "cell_type": "markdown",
   "metadata": {},
   "source": [
    "## DGP1:    \n",
    "\n",
    "### &emsp;&emsp; $y_i = \\tau*T_i+\\beta'*x_i+e_i$\n",
    "\n",
    "<br>\n",
    "\n",
    "* Treatment effect $\\tau$ = 2\n",
    "\n",
    "* Treatment $T_i$ is randomly sampled from 0 and 1 with 50% probability.\n",
    "\n",
    "* Explanatory variable $x_i$ is a Nx10 matrix, where 5 of the 10 explanatory variables are the covariates.  \n",
    "\n",
    "* $x_i$ is randomly generated with a normal distribution.\n",
    "\n",
    "* Coefficient on covariates $\\beta$ is randomly generated with a normal distribution. \n",
    "\n",
    "* Correlation for multivariate normal is 0.5\n",
    "\n",
    "* Error term $e_i$ is randomly generated with a normal distribution (mean = 0)\n"
   ]
  },
  {
   "cell_type": "code",
   "execution_count": 7,
   "metadata": {},
   "outputs": [],
   "source": [
    "def DGP1(N): \n",
    "    tau = 2 # treatment effect\n",
    "    corr = 0.5 # correlation for multivariate normal\n",
    "    Nvar = 10 # number of variables\n",
    "    Ncov = 5 # number of covariates\n",
    "    \n",
    "    err = np.random.normal(0,1,[N,1]) # random error\n",
    "    T = random.sample(range(N), round(N*0.5)) # random treatment (1 and 0)\n",
    "    T = np.array([(1 if i in T else 0) for i in range(N)]).reshape([N,1])     \n",
    "\n",
    "    X = generate_x(N, corr, Nvar) # all X\n",
    "\n",
    "    beta0 = np.random.normal(5,5,[Nvar,1]) \n",
    "    beta0[Ncov:Nvar] = 0 # sparse model\n",
    "    \n",
    "    y = tau*T+X@beta0+err \n",
    "\n",
    "    return (y, T, X, Ncov)"
   ]
  },
  {
   "cell_type": "code",
   "execution_count": 8,
   "metadata": {},
   "outputs": [],
   "source": [
    "# export data to csv\n",
    "\n",
    "# N=100\n",
    "y, T, X, Ncov = DGP1(100) # data generating\n",
    "data = pd.DataFrame(dict(y = y[:,0].tolist(),\n",
    "                         treatment=T[:,0].tolist(),\n",
    "                         covariate1 = X[:,0].tolist(),\n",
    "                         covariate2 = X[:,1].tolist(),\n",
    "                         covariate3 = X[:,2].tolist(),\n",
    "                         covariate4 = X[:,3].tolist(),\n",
    "                         covariate5 = X[:,4].tolist()\n",
    "                    )\n",
    "               )\n",
    "data.to_csv(\"covariates_100.csv\", index=False)\n",
    "\n",
    "#N=1000\n",
    "y, T, X, Ncov = DGP1(1000) # data generating\n",
    "data = pd.DataFrame(dict(y = y[:,0].tolist(),\n",
    "                         treatment=T[:,0].tolist(),\n",
    "                         covariate1 = X[:,0].tolist(),\n",
    "                         covariate2 = X[:,1].tolist(),\n",
    "                         covariate3 = X[:,2].tolist(),\n",
    "                         covariate4 = X[:,3].tolist(),\n",
    "                         covariate5 = X[:,4].tolist()\n",
    "                    )\n",
    "               )\n",
    "data.to_csv(\"covariates_1000.csv\", index=False)"
   ]
  },
  {
   "cell_type": "markdown",
   "metadata": {},
   "source": [
    "## 1a. Do not control for any covariates\n",
    "\n",
    "* Run Monte Carlo experiments (2000 iterations) with sample sizes N=100 and N=1000\n",
    "\n",
    "* Treatment effect is calculated simply by ATE\n",
    "\n",
    "* ATE = E[$y_i$|$T_i$=1] - E[$y_i$|$T_i$=0]"
   ]
  },
  {
   "cell_type": "code",
   "execution_count": 9,
   "metadata": {},
   "outputs": [
    {
     "name": "stderr",
     "output_type": "stream",
     "text": [
      "100%|██████████| 2000/2000 [00:00<00:00, 2065.33it/s]\n",
      "100%|██████████| 2000/2000 [00:12<00:00, 165.13it/s]"
     ]
    },
    {
     "name": "stdout",
     "output_type": "stream",
     "text": [
      "N=100:\n",
      "treatment effect= 2.012604193702416\n",
      "bias=0.012604193702415842\n",
      "RMSE=4.687504587371756\n",
      "size=0.0555\n",
      "\n",
      "N=1000:\n",
      "treatment effect= 2.037314764708931\n",
      "bias=0.03731476470893151\n",
      "RMSE=1.396266806166737\n",
      "size=0.0525\n",
      "\n"
     ]
    },
    {
     "name": "stderr",
     "output_type": "stream",
     "text": [
      "\n"
     ]
    }
   ],
   "source": [
    "# Run Monte Carlo experiments\n",
    "case = 11\n",
    "iteration = 2000\n",
    "MonteCarlo(case, iteration)"
   ]
  },
  {
   "cell_type": "markdown",
   "metadata": {},
   "source": [
    "## 1b. Control for all covariates\n",
    "\n",
    "\n",
    "* Using the same generated data in 1a. \n",
    "\n",
    "* Run Monte Carlo experiments (2000 iterations) with sample sizes N=100 and N=1000\n",
    "\n",
    "* Covariates are controlled using OLS."
   ]
  },
  {
   "cell_type": "code",
   "execution_count": 10,
   "metadata": {},
   "outputs": [
    {
     "name": "stderr",
     "output_type": "stream",
     "text": [
      "100%|██████████| 2000/2000 [00:26<00:00, 76.26it/s]\n",
      "100%|██████████| 2000/2000 [00:39<00:00, 50.46it/s]"
     ]
    },
    {
     "name": "stdout",
     "output_type": "stream",
     "text": [
      "N=100:\n",
      "treatment effect= 1.9981316447761441\n",
      "bias=-0.0018683552238559769\n",
      "RMSE=0.14816522874736748\n",
      "size=0.0675\n",
      "\n",
      "N=1000:\n",
      "treatment effect= 2.0014636515086766\n",
      "bias=0.0014636515086767297\n",
      "RMSE=0.04493890026633254\n",
      "size=0.051\n",
      "\n"
     ]
    },
    {
     "name": "stderr",
     "output_type": "stream",
     "text": [
      "\n"
     ]
    }
   ],
   "source": [
    "# Run Monte Carlo experiments\n",
    "case = 12\n",
    "iteration = 2000\n",
    "MonteCarlo(case, iteration)"
   ]
  },
  {
   "cell_type": "markdown",
   "metadata": {},
   "source": [
    "***"
   ]
  },
  {
   "cell_type": "markdown",
   "metadata": {},
   "source": [
    "# 2.  Confounding"
   ]
  },
  {
   "cell_type": "markdown",
   "metadata": {},
   "source": [
    "Again, consider a study on the causal effect of education on earnings.\n",
    "\n",
    "* Treatment: Education; Outcome: Income\n",
    "\n",
    "* Confounder: IQ\n",
    "\n",
    "* Intelligence level is the common cause of both income and education. It is plausible to say that smarter people are more likely to pursue a high level of education. However, if a person is smarter, he/she is likely to get a higher income by nature, regardless of the education level. Therefore, in order to get a sufficient result, we need to control IQ and compare people with the same intelligence level. "
   ]
  },
  {
   "cell_type": "code",
   "execution_count": 11,
   "metadata": {},
   "outputs": [
    {
     "data": {
      "image/svg+xml": [
       "<?xml version=\"1.0\" encoding=\"UTF-8\" standalone=\"no\"?>\n",
       "<!DOCTYPE svg PUBLIC \"-//W3C//DTD SVG 1.1//EN\"\n",
       " \"http://www.w3.org/Graphics/SVG/1.1/DTD/svg11.dtd\">\n",
       "<!-- Generated by graphviz version 2.40.1 (20161225.0304)\n",
       " -->\n",
       "<!-- Title: %3 Pages: 1 -->\n",
       "<svg width=\"243pt\" height=\"188pt\"\n",
       " viewBox=\"0.00 0.00 243.45 188.00\" xmlns=\"http://www.w3.org/2000/svg\" xmlns:xlink=\"http://www.w3.org/1999/xlink\">\n",
       "<g id=\"graph0\" class=\"graph\" transform=\"scale(1 1) rotate(0) translate(4 184)\">\n",
       "<title>%3</title>\n",
       "<polygon fill=\"#ffffff\" stroke=\"transparent\" points=\"-4,4 -4,-184 239.4458,-184 239.4458,4 -4,4\"/>\n",
       "<!-- C -->\n",
       "<g id=\"node1\" class=\"node\">\n",
       "<title>C</title>\n",
       "<ellipse fill=\"none\" stroke=\"#000000\" cx=\"33\" cy=\"-162\" rx=\"27\" ry=\"18\"/>\n",
       "<text text-anchor=\"middle\" x=\"33\" y=\"-158.3\" font-family=\"Times,serif\" font-size=\"14.00\" fill=\"#000000\">C</text>\n",
       "</g>\n",
       "<!-- Y -->\n",
       "<g id=\"node2\" class=\"node\">\n",
       "<title>Y</title>\n",
       "<ellipse fill=\"none\" stroke=\"#000000\" cx=\"27\" cy=\"-18\" rx=\"27\" ry=\"18\"/>\n",
       "<text text-anchor=\"middle\" x=\"27\" y=\"-14.3\" font-family=\"Times,serif\" font-size=\"14.00\" fill=\"#000000\">Y</text>\n",
       "</g>\n",
       "<!-- C&#45;&gt;Y -->\n",
       "<g id=\"edge1\" class=\"edge\">\n",
       "<title>C&#45;&gt;Y</title>\n",
       "<path fill=\"none\" stroke=\"#000000\" d=\"M22.8924,-145.1647C17.2905,-134.8361 10.8888,-121.1159 8,-108 4.5585,-92.3745 5.3063,-87.7716 8,-72 9.5393,-62.9872 12.4261,-53.4782 15.4931,-44.9937\"/>\n",
       "<polygon fill=\"#000000\" stroke=\"#000000\" points=\"18.7847,-46.1853 19.1063,-35.5953 12.2509,-43.6734 18.7847,-46.1853\"/>\n",
       "</g>\n",
       "<!-- T -->\n",
       "<g id=\"node3\" class=\"node\">\n",
       "<title>T</title>\n",
       "<ellipse fill=\"none\" stroke=\"#000000\" cx=\"44\" cy=\"-90\" rx=\"27\" ry=\"18\"/>\n",
       "<text text-anchor=\"middle\" x=\"44\" y=\"-86.3\" font-family=\"Times,serif\" font-size=\"14.00\" fill=\"#000000\">T</text>\n",
       "</g>\n",
       "<!-- C&#45;&gt;T -->\n",
       "<g id=\"edge2\" class=\"edge\">\n",
       "<title>C&#45;&gt;T</title>\n",
       "<path fill=\"none\" stroke=\"#000000\" d=\"M35.7758,-143.8314C36.9703,-136.0125 38.3942,-126.6923 39.7188,-118.0221\"/>\n",
       "<polygon fill=\"#000000\" stroke=\"#000000\" points=\"43.2127,-118.3273 41.2632,-107.9134 36.293,-117.2701 43.2127,-118.3273\"/>\n",
       "</g>\n",
       "<!-- T&#45;&gt;Y -->\n",
       "<g id=\"edge3\" class=\"edge\">\n",
       "<title>T&#45;&gt;Y</title>\n",
       "<path fill=\"none\" stroke=\"#000000\" d=\"M39.7978,-72.2022C37.9179,-64.2406 35.6575,-54.6671 33.5629,-45.7957\"/>\n",
       "<polygon fill=\"#000000\" stroke=\"#000000\" points=\"36.9172,-44.7706 31.2128,-35.8425 30.1045,-46.3792 36.9172,-44.7706\"/>\n",
       "</g>\n",
       "<!-- IQ -->\n",
       "<g id=\"node4\" class=\"node\">\n",
       "<title>IQ</title>\n",
       "<ellipse fill=\"none\" stroke=\"#000000\" cx=\"124\" cy=\"-162\" rx=\"27\" ry=\"18\"/>\n",
       "<text text-anchor=\"middle\" x=\"124\" y=\"-158.3\" font-family=\"Times,serif\" font-size=\"14.00\" fill=\"#000000\">IQ</text>\n",
       "</g>\n",
       "<!-- Income -->\n",
       "<g id=\"node5\" class=\"node\">\n",
       "<title>Income</title>\n",
       "<ellipse fill=\"none\" stroke=\"#000000\" cx=\"130\" cy=\"-18\" rx=\"37.8943\" ry=\"18\"/>\n",
       "<text text-anchor=\"middle\" x=\"130\" y=\"-14.3\" font-family=\"Times,serif\" font-size=\"14.00\" fill=\"#000000\">Income</text>\n",
       "</g>\n",
       "<!-- IQ&#45;&gt;Income -->\n",
       "<g id=\"edge4\" class=\"edge\">\n",
       "<title>IQ&#45;&gt;Income</title>\n",
       "<path fill=\"none\" stroke=\"#000000\" d=\"M124.7599,-143.7623C125.7833,-119.201 127.6147,-75.2474 128.8186,-46.3541\"/>\n",
       "<polygon fill=\"#000000\" stroke=\"#000000\" points=\"132.3268,-46.2267 129.2463,-36.0896 125.3329,-45.9352 132.3268,-46.2267\"/>\n",
       "</g>\n",
       "<!-- Education -->\n",
       "<g id=\"node6\" class=\"node\">\n",
       "<title>Education</title>\n",
       "<ellipse fill=\"none\" stroke=\"#000000\" cx=\"188\" cy=\"-90\" rx=\"47.3916\" ry=\"18\"/>\n",
       "<text text-anchor=\"middle\" x=\"188\" y=\"-86.3\" font-family=\"Times,serif\" font-size=\"14.00\" fill=\"#000000\">Education</text>\n",
       "</g>\n",
       "<!-- IQ&#45;&gt;Education -->\n",
       "<g id=\"edge5\" class=\"edge\">\n",
       "<title>IQ&#45;&gt;Education</title>\n",
       "<path fill=\"none\" stroke=\"#000000\" d=\"M137.887,-146.3771C146.0899,-137.1489 156.6604,-125.257 165.9772,-114.7757\"/>\n",
       "<polygon fill=\"#000000\" stroke=\"#000000\" points=\"168.7697,-116.9023 172.7974,-107.1029 163.5378,-112.2518 168.7697,-116.9023\"/>\n",
       "</g>\n",
       "<!-- Education&#45;&gt;Income -->\n",
       "<g id=\"edge6\" class=\"edge\">\n",
       "<title>Education&#45;&gt;Income</title>\n",
       "<path fill=\"none\" stroke=\"#000000\" d=\"M173.9598,-72.5708C166.8356,-63.7269 158.0526,-52.8239 150.215,-43.0945\"/>\n",
       "<polygon fill=\"#000000\" stroke=\"#000000\" points=\"152.9099,-40.8606 143.9109,-35.2687 147.4586,-45.2519 152.9099,-40.8606\"/>\n",
       "</g>\n",
       "</g>\n",
       "</svg>\n"
      ],
      "text/plain": [
       "<graphviz.dot.Digraph at 0x7fd283427050>"
      ]
     },
     "execution_count": 11,
     "metadata": {},
     "output_type": "execute_result"
    }
   ],
   "source": [
    "g2 = gr.Digraph()\n",
    "g2.edge(\"C\", \"Y\"), g2.edge(\"C\", \"T\"), g2.edge(\"T\", \"Y\")\n",
    "g2.edge(\"IQ\", \"Income\"), g2.edge(\"IQ\", \"Education\"), g2.edge(\"Education\", \"Income\")\n",
    "\n",
    "g2"
   ]
  },
  {
   "cell_type": "markdown",
   "metadata": {},
   "source": [
    "## DGP2: \n",
    "\n",
    "### &emsp;&emsp; $y_i = \\tau*T1_i+\\beta*C_i +e_i$  \n",
    "\n",
    "### &emsp;&emsp; $T1_i = T_i+\\alpha*C_i$\n",
    "\n",
    "<br>\n",
    "\n",
    "* Treatment effect $\\tau$ = 2\n",
    "\n",
    "* Treatment $T_i$ is randomly sampled from 0 and 1 with 50% probability.\n",
    "\n",
    "* $T1_i$ represents the treatment that is correlated to the confounder.\n",
    "\n",
    "* $\\alpha$, the correlation between the confounder and the treatment, is randomly generated with a normal distribution at mean=0.5\n",
    "\n",
    "* Confounder $C_i$ is randomly generated with a normal distribution.\n",
    "\n",
    "* Coefficient on the confounder $\\beta$ is randomly sampled between 0.5 to 1 with a uniform distribution. \n",
    "\n",
    "* Error term $e_i$ is randomly generated with a normal distribution (mean = 0)\n"
   ]
  },
  {
   "cell_type": "code",
   "execution_count": 12,
   "metadata": {},
   "outputs": [],
   "source": [
    "def DGP2(N):  \n",
    "    tau = 2\n",
    "    corr = .5 \n",
    "    \n",
    "    err = np.random.normal(0,1,[N,1]) # random error\n",
    "    T = random.sample(range(N), round(N*0.5)) # random treatment (1 and 0)\n",
    "    T = np.array([(1 if i in T else 0) for i in range(N)]).reshape([N,1])     \n",
    "    \n",
    "    beta= np.random.uniform(0.5, 1) \n",
    "    C = generate_x(N, corr, 1).reshape([N,1]) # confounder\n",
    "    a = np.random.normal(0.5,1) # correlation between C and T\n",
    "    T1 = T+a*C  # treatment is correlated with confounder\n",
    "    y = tau*T1+beta*C+err\n",
    "    \n",
    "    return (y, T, T1, C)"
   ]
  },
  {
   "cell_type": "code",
   "execution_count": 13,
   "metadata": {},
   "outputs": [],
   "source": [
    "# export data to csv\n",
    "\n",
    "y, T, T1, C = DGP2(100)\n",
    "data = pd.DataFrame(dict(y = y[:,0].tolist(),\n",
    "                         treatment=T[:,0].tolist(),\n",
    "                         treatment_confounding=T1[:,0].tolist(),\n",
    "                         confounder=C[:,0].tolist(),\n",
    "                    )\n",
    "               )\n",
    "\n",
    "data.to_csv(\"confounder_100.csv\", index=False)\n",
    "\n",
    "y, T, T1, C = DGP2(1000) # data generating\n",
    "data = pd.DataFrame(dict(y = y[:,0].tolist(),\n",
    "                         treatment=T[:,0].tolist(),\n",
    "                         treatment_confounding=T1[:,0].tolist(),\n",
    "                         confounder=C[:,0].tolist()\n",
    "                    )\n",
    "               )\n",
    "\n",
    "data.to_csv(\"confounder_1000.csv\", index=False)"
   ]
  },
  {
   "cell_type": "markdown",
   "metadata": {},
   "source": [
    "## 2a. Fail to control for the confounder"
   ]
  },
  {
   "cell_type": "markdown",
   "metadata": {},
   "source": [
    "* Run Monte Carlo experiments with sample sizes N=100 and N=1000\n",
    "\n",
    "* Treatment effect is evaluated without controlling the confounder"
   ]
  },
  {
   "cell_type": "code",
   "execution_count": 14,
   "metadata": {},
   "outputs": [
    {
     "name": "stderr",
     "output_type": "stream",
     "text": [
      "100%|██████████| 2000/2000 [00:07<00:00, 258.06it/s]\n",
      "100%|██████████| 2000/2000 [00:16<00:00, 119.70it/s]"
     ]
    },
    {
     "name": "stdout",
     "output_type": "stream",
     "text": [
      "N=100:\n",
      "treatment effect= 2.151916665868605\n",
      "bias=0.15191666586860497\n",
      "RMSE=0.43643280836740284\n",
      "size=0.778\n",
      "\n",
      "N=1000:\n",
      "treatment effect= 2.146559611891843\n",
      "bias=0.14655961189184258\n",
      "RMSE=0.4234830072546549\n",
      "size=0.9155\n",
      "\n"
     ]
    },
    {
     "name": "stderr",
     "output_type": "stream",
     "text": [
      "\n"
     ]
    }
   ],
   "source": [
    "# Run Monte Carlo experiments\n",
    "case = 21\n",
    "iteration = 2000\n",
    "MonteCarlo(case, iteration)"
   ]
  },
  {
   "cell_type": "markdown",
   "metadata": {},
   "source": [
    "## 2b. Control for the confounder\n",
    "\n",
    "* Run Monte Carlo experiments with sample sizes N=100 and N=1000\n",
    "\n",
    "* Treatment effect is evaluated using ols with treatment and the confounder"
   ]
  },
  {
   "cell_type": "code",
   "execution_count": 15,
   "metadata": {},
   "outputs": [
    {
     "name": "stderr",
     "output_type": "stream",
     "text": [
      "100%|██████████| 2000/2000 [00:11<00:00, 178.76it/s]\n",
      "100%|██████████| 2000/2000 [00:20<00:00, 98.97it/s] "
     ]
    },
    {
     "name": "stdout",
     "output_type": "stream",
     "text": [
      "N=100:\n",
      "treatment effect= 2.006101242091494\n",
      "bias=0.006101242091494095\n",
      "RMSE=0.14129031315371995\n",
      "size=0.0555\n",
      "\n",
      "N=1000:\n",
      "treatment effect= 1.9989023978948317\n",
      "bias=-0.001097602105168301\n",
      "RMSE=0.04432205336367938\n",
      "size=0.051\n",
      "\n"
     ]
    },
    {
     "name": "stderr",
     "output_type": "stream",
     "text": [
      "\n"
     ]
    }
   ],
   "source": [
    "# Run Monte Carlo experiments\n",
    "case = 22\n",
    "iteration = 2000\n",
    "MonteCarlo(case, iteration)"
   ]
  },
  {
   "cell_type": "markdown",
   "metadata": {},
   "source": [
    "***"
   ]
  },
  {
   "cell_type": "markdown",
   "metadata": {},
   "source": [
    "# 3.  Selection Bias"
   ]
  },
  {
   "cell_type": "markdown",
   "metadata": {},
   "source": [
    "Consider the same example of education and earnings.\n",
    "\n",
    "* Treatment: Education; Outcome: Income\n",
    "\n",
    "* Selection Bias: Motivation\n",
    "\n",
    "* Motivation is the mediator in between the path from the education to the earnings. People with high level of education are likely to be more motivated to work. At the same time, more motivated person may have higher income. In this case, we should not control the motivation level because it is one way that the education is affecting earnings. "
   ]
  },
  {
   "cell_type": "code",
   "execution_count": 16,
   "metadata": {},
   "outputs": [
    {
     "data": {
      "image/svg+xml": [
       "<?xml version=\"1.0\" encoding=\"UTF-8\" standalone=\"no\"?>\n",
       "<!DOCTYPE svg PUBLIC \"-//W3C//DTD SVG 1.1//EN\"\n",
       " \"http://www.w3.org/Graphics/SVG/1.1/DTD/svg11.dtd\">\n",
       "<!-- Generated by graphviz version 2.40.1 (20161225.0304)\n",
       " -->\n",
       "<!-- Title: %3 Pages: 1 -->\n",
       "<svg width=\"272pt\" height=\"188pt\"\n",
       " viewBox=\"0.00 0.00 271.57 188.00\" xmlns=\"http://www.w3.org/2000/svg\" xmlns:xlink=\"http://www.w3.org/1999/xlink\">\n",
       "<g id=\"graph0\" class=\"graph\" transform=\"scale(1 1) rotate(0) translate(4 184)\">\n",
       "<title>%3</title>\n",
       "<polygon fill=\"#ffffff\" stroke=\"transparent\" points=\"-4,4 -4,-184 267.5694,-184 267.5694,4 -4,4\"/>\n",
       "<!-- T -->\n",
       "<g id=\"node1\" class=\"node\">\n",
       "<title>T</title>\n",
       "<ellipse fill=\"none\" stroke=\"#000000\" cx=\"35.224\" cy=\"-162\" rx=\"27\" ry=\"18\"/>\n",
       "<text text-anchor=\"middle\" x=\"35.224\" y=\"-158.3\" font-family=\"Times,serif\" font-size=\"14.00\" fill=\"#000000\">T</text>\n",
       "</g>\n",
       "<!-- Y -->\n",
       "<g id=\"node2\" class=\"node\">\n",
       "<title>Y</title>\n",
       "<ellipse fill=\"none\" stroke=\"#000000\" cx=\"36.224\" cy=\"-18\" rx=\"27\" ry=\"18\"/>\n",
       "<text text-anchor=\"middle\" x=\"36.224\" y=\"-14.3\" font-family=\"Times,serif\" font-size=\"14.00\" fill=\"#000000\">Y</text>\n",
       "</g>\n",
       "<!-- T&#45;&gt;Y -->\n",
       "<g id=\"edge1\" class=\"edge\">\n",
       "<title>T&#45;&gt;Y</title>\n",
       "<path fill=\"none\" stroke=\"#000000\" d=\"M22.6497,-146.0299C15.4149,-135.7965 7.0258,-121.8731 3.224,-108 -1.0048,-92.5689 -1.1096,-87.402 3.224,-72 6.17,-61.5294 11.7727,-51.0814 17.5367,-42.2044\"/>\n",
       "<polygon fill=\"#000000\" stroke=\"#000000\" points=\"20.4626,-44.1267 23.262,-33.9084 14.7014,-40.1507 20.4626,-44.1267\"/>\n",
       "</g>\n",
       "<!-- Mediator -->\n",
       "<g id=\"node3\" class=\"node\">\n",
       "<title>Mediator</title>\n",
       "<ellipse fill=\"none\" stroke=\"#000000\" cx=\"56.224\" cy=\"-90\" rx=\"44.393\" ry=\"18\"/>\n",
       "<text text-anchor=\"middle\" x=\"56.224\" y=\"-86.3\" font-family=\"Times,serif\" font-size=\"14.00\" fill=\"#000000\">Mediator</text>\n",
       "</g>\n",
       "<!-- T&#45;&gt;Mediator -->\n",
       "<g id=\"edge2\" class=\"edge\">\n",
       "<title>T&#45;&gt;Mediator</title>\n",
       "<path fill=\"none\" stroke=\"#000000\" d=\"M40.415,-144.2022C42.7447,-136.2146 45.5477,-126.6045 48.1423,-117.7087\"/>\n",
       "<polygon fill=\"#000000\" stroke=\"#000000\" points=\"51.5068,-118.6731 50.9468,-108.0931 44.7868,-116.7131 51.5068,-118.6731\"/>\n",
       "</g>\n",
       "<!-- Mediator&#45;&gt;Y -->\n",
       "<g id=\"edge3\" class=\"edge\">\n",
       "<title>Mediator&#45;&gt;Y</title>\n",
       "<path fill=\"none\" stroke=\"#000000\" d=\"M51.1771,-71.8314C48.9814,-63.9266 46.3593,-54.4872 43.9286,-45.7365\"/>\n",
       "<polygon fill=\"#000000\" stroke=\"#000000\" points=\"47.2488,-44.6118 41.1999,-35.9134 40.5041,-46.4854 47.2488,-44.6118\"/>\n",
       "</g>\n",
       "<!-- Education -->\n",
       "<g id=\"node4\" class=\"node\">\n",
       "<title>Education</title>\n",
       "<ellipse fill=\"none\" stroke=\"#000000\" cx=\"153.224\" cy=\"-162\" rx=\"47.3916\" ry=\"18\"/>\n",
       "<text text-anchor=\"middle\" x=\"153.224\" y=\"-158.3\" font-family=\"Times,serif\" font-size=\"14.00\" fill=\"#000000\">Education</text>\n",
       "</g>\n",
       "<!-- Income -->\n",
       "<g id=\"node5\" class=\"node\">\n",
       "<title>Income</title>\n",
       "<ellipse fill=\"none\" stroke=\"#000000\" cx=\"152.224\" cy=\"-18\" rx=\"37.8943\" ry=\"18\"/>\n",
       "<text text-anchor=\"middle\" x=\"152.224\" y=\"-14.3\" font-family=\"Times,serif\" font-size=\"14.00\" fill=\"#000000\">Income</text>\n",
       "</g>\n",
       "<!-- Education&#45;&gt;Income -->\n",
       "<g id=\"edge4\" class=\"edge\">\n",
       "<title>Education&#45;&gt;Income</title>\n",
       "<path fill=\"none\" stroke=\"#000000\" d=\"M152.7969,-143.5068C152.5773,-133.08 152.3334,-119.814 152.224,-108 152.0335,-87.4272 152.039,-64.2079 152.0892,-46.5071\"/>\n",
       "<polygon fill=\"#000000\" stroke=\"#000000\" points=\"155.5899,-46.2842 152.1249,-36.272 148.59,-46.2597 155.5899,-46.2842\"/>\n",
       "</g>\n",
       "<!-- Motivation -->\n",
       "<g id=\"node6\" class=\"node\">\n",
       "<title>Motivation</title>\n",
       "<ellipse fill=\"none\" stroke=\"#000000\" cx=\"212.224\" cy=\"-90\" rx=\"51.1914\" ry=\"18\"/>\n",
       "<text text-anchor=\"middle\" x=\"212.224\" y=\"-86.3\" font-family=\"Times,serif\" font-size=\"14.00\" fill=\"#000000\">Motivation</text>\n",
       "</g>\n",
       "<!-- Education&#45;&gt;Motivation -->\n",
       "<g id=\"edge5\" class=\"edge\">\n",
       "<title>Education&#45;&gt;Motivation</title>\n",
       "<path fill=\"none\" stroke=\"#000000\" d=\"M167.5062,-144.5708C174.7,-135.7919 183.5564,-124.9841 191.4845,-115.3093\"/>\n",
       "<polygon fill=\"#000000\" stroke=\"#000000\" points=\"194.2377,-117.4714 197.8688,-107.5182 188.8233,-113.0347 194.2377,-117.4714\"/>\n",
       "</g>\n",
       "<!-- Motivation&#45;&gt;Income -->\n",
       "<g id=\"edge6\" class=\"edge\">\n",
       "<title>Motivation&#45;&gt;Income</title>\n",
       "<path fill=\"none\" stroke=\"#000000\" d=\"M197.6997,-72.5708C190.2214,-63.5968 180.9763,-52.5028 172.779,-42.666\"/>\n",
       "<polygon fill=\"#000000\" stroke=\"#000000\" points=\"175.2921,-40.2145 166.2014,-34.7729 169.9145,-44.6958 175.2921,-40.2145\"/>\n",
       "</g>\n",
       "</g>\n",
       "</svg>\n"
      ],
      "text/plain": [
       "<graphviz.dot.Digraph at 0x7fd28343be90>"
      ]
     },
     "execution_count": 16,
     "metadata": {},
     "output_type": "execute_result"
    }
   ],
   "source": [
    "g2 = gr.Digraph()\n",
    "g2.edge(\"T\", \"Y\"), g2.edge(\"T\", \"Mediator\"), g2.edge(\"Mediator\", \"Y\")\n",
    "g2.edge(\"Education\", \"Income\"), g2.edge(\"Education\", \"Motivation\"), g2.edge(\"Motivation\", \"Income\")\n",
    "\n",
    "g2"
   ]
  },
  {
   "cell_type": "markdown",
   "metadata": {},
   "source": [
    "## DGP3: \n",
    "\n",
    "### &emsp;&emsp; $y_i = \\frac{\\tau}{\\alpha+1}*T_i+\\frac{\\tau}{\\alpha+1}*M_i +e_i$  &emsp;&emsp;&emsp; $M_i =  \\alpha*T_i$\n",
    "\n",
    "### &emsp;&emsp; $y_i = \\frac{\\tau}{\\alpha+1}*T_i+\\frac{\\tau}{\\alpha+1}*\\alpha*T_i +e_i$\n",
    "\n",
    "### &emsp;&emsp; $y_i = \\tau*T_i+e_i$\n",
    "\n",
    "\n",
    "<br>\n",
    "\n",
    "* Treatment effect $\\tau$ = 2\n",
    "\n",
    "* Treatment $T_i$ is randomly sampled from 0 and 1 with 50% probability.\n",
    "\n",
    "* Mediator $M_i$ is correlated to the treatment $T_i$ by $\\alpha$\n",
    "\n",
    "* The correlation between the mediator and the treatment $\\alpha$ is randomly sampled between 0.2 to 1 with a uniform distribution. \n",
    "\n",
    "* Error term $e_i$ is randomly generated with a normal distribution (mean = 0)\n"
   ]
  },
  {
   "cell_type": "code",
   "execution_count": 17,
   "metadata": {},
   "outputs": [],
   "source": [
    "def DGP3(N):  \n",
    "    tau = 2\n",
    "    err = np.random.normal(0,0.2,[N,1]) # random error\n",
    "    T = random.sample(range(N), round(N*0.5)) # random treatment (1 and 0)\n",
    "    T = np.array([(1 if i in T else 0) for i in range(N)]).reshape([N,1])     \n",
    "    \n",
    "    a = np.random.uniform(0.2, 1, size=[N,1])\n",
    "    M = a*T+np.random.normal(0, 0.2, [N,1])  # mediator is correlated with treatment\n",
    "    y = tau/(a+1)*T+tau/(a+1)*M + err\n",
    "        \n",
    "    return (y, T, M)"
   ]
  },
  {
   "cell_type": "code",
   "execution_count": 18,
   "metadata": {},
   "outputs": [],
   "source": [
    "y, T, M = DGP3(100) # data generating\n",
    "data = pd.DataFrame(dict(y = y[:,0].tolist(),\n",
    "                         treatment=T[:,0].tolist(),\n",
    "                         mediator=M[:,0].tolist()\n",
    "                    )\n",
    "               )\n",
    "\n",
    "data.to_csv(\"SelectionBias_100.csv\", index=False)\n",
    "\n",
    "y, T, M = DGP3(1000) # data generating\n",
    "data = pd.DataFrame(dict(y = y[:,0].tolist(),\n",
    "                         treatment=T[:,0].tolist(),\n",
    "                         mediator=M[:,0].tolist()\n",
    "                    )\n",
    "               )\n",
    "\n",
    "data.to_csv(\"SelectionBias_1000.csv\", index=False)"
   ]
  },
  {
   "cell_type": "markdown",
   "metadata": {},
   "source": [
    "## 3a. Control for the mediator variable\n",
    "\n",
    "* Run Monte Carlo experiments with sample sizes N=100 and N=1000\n",
    "\n",
    "* Treatment effect is evaluated on both treatment and the mediator"
   ]
  },
  {
   "cell_type": "code",
   "execution_count": 19,
   "metadata": {},
   "outputs": [
    {
     "name": "stderr",
     "output_type": "stream",
     "text": [
      "100%|██████████| 2000/2000 [00:12<00:00, 161.64it/s]\n",
      "100%|██████████| 2000/2000 [00:20<00:00, 98.76it/s] "
     ]
    },
    {
     "name": "stdout",
     "output_type": "stream",
     "text": [
      "N=100:\n",
      "treatment effect= 1.5405776976093208\n",
      "bias=-0.4594223023906791\n",
      "RMSE=0.4647332690639451\n",
      "size=1.0\n",
      "\n",
      "N=1000:\n",
      "treatment effect= 1.5402144788653431\n",
      "bias=-0.4597855211346568\n",
      "RMSE=0.46033292721888347\n",
      "size=1.0\n",
      "\n"
     ]
    },
    {
     "name": "stderr",
     "output_type": "stream",
     "text": [
      "\n"
     ]
    }
   ],
   "source": [
    "# Run Monte Carlo experiments\n",
    "case = 31\n",
    "iteration = 2000\n",
    "MonteCarlo(case, iteration)"
   ]
  },
  {
   "cell_type": "markdown",
   "metadata": {},
   "source": [
    "## 3b. Do not control for the mediator variable\n",
    "\n",
    "* Run Monte Carlo experiments with sample sizes N=100 and N=1000\n",
    "\n",
    "* Treatment effect is evaluated soley with the treatment"
   ]
  },
  {
   "cell_type": "code",
   "execution_count": 20,
   "metadata": {
    "scrolled": true
   },
   "outputs": [
    {
     "name": "stderr",
     "output_type": "stream",
     "text": [
      "100%|██████████| 2000/2000 [00:07<00:00, 264.59it/s]\n",
      "100%|██████████| 2000/2000 [00:18<00:00, 110.10it/s]"
     ]
    },
    {
     "name": "stdout",
     "output_type": "stream",
     "text": [
      "N=100:\n",
      "treatment effect= 1.9990701928135255\n",
      "bias=-0.0009298071864745898\n",
      "RMSE=0.04703856424883858\n",
      "size=0.059\n",
      "\n",
      "N=1000:\n",
      "treatment effect= 1.9998056029482605\n",
      "bias=-0.0001943970517393192\n",
      "RMSE=0.014871311362562104\n",
      "size=0.0555\n",
      "\n"
     ]
    },
    {
     "name": "stderr",
     "output_type": "stream",
     "text": [
      "\n"
     ]
    }
   ],
   "source": [
    "# Run Monte Carlo experiments\n",
    "case = 32\n",
    "iteration = 2000\n",
    "MonteCarlo(case, iteration)"
   ]
  }
 ],
 "metadata": {
  "kernelspec": {
   "display_name": "Python 3",
   "language": "python",
   "name": "python3"
  },
  "language_info": {
   "codemirror_mode": {
    "name": "ipython",
    "version": 3
   },
   "file_extension": ".py",
   "mimetype": "text/x-python",
   "name": "python",
   "nbconvert_exporter": "python",
   "pygments_lexer": "ipython3",
   "version": "3.7.4"
  }
 },
 "nbformat": 4,
 "nbformat_minor": 2
}
